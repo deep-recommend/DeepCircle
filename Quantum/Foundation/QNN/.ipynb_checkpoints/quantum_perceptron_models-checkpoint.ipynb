{
 "cells": [
  {
   "cell_type": "markdown",
   "id": "84b703a5",
   "metadata": {},
   "source": [
    "# Quantum Perceptron Models\n",
    "\n",
    "https://arxiv.org/pdf/1602.04799.pdf\n",
    "\n",
    "\n",
    "## Algorithm 1 Online quantum perceptron training algorithm\n",
    "\n",
    "\n",
    "\n",
    "## Algorithm 2 Quantum version space perceptron training algorithm"
   ]
  },
  {
   "cell_type": "code",
   "execution_count": 2,
   "id": "79daedb3",
   "metadata": {},
   "outputs": [
    {
     "ename": "SyntaxError",
     "evalue": "invalid syntax (2801622723.py, line 4)",
     "output_type": "error",
     "traceback": [
      "\u001b[1;36m  Cell \u001b[1;32mIn [2], line 4\u001b[1;36m\u001b[0m\n\u001b[1;33m    import tensorflow-gpu as tf\u001b[0m\n\u001b[1;37m                     ^\u001b[0m\n\u001b[1;31mSyntaxError\u001b[0m\u001b[1;31m:\u001b[0m invalid syntax\n"
     ]
    }
   ],
   "source": [
    "import cirq\n",
    "import numpy as np\n",
    "import random\n",
    "import tensorflow as tf\n",
    "import time\n",
    "import timeit\n",
    "from cirq.google import ExpWGate, Exp11Gate, XmonMeasurementGate\n",
    "from cirq.google import XmonSimulator\n",
    "from matplotlib import pyplot as plt\n",
    "from itertools import combinations"
   ]
  },
  {
   "cell_type": "code",
   "execution_count": null,
   "id": "eae12ed9",
   "metadata": {},
   "outputs": [],
   "source": []
  }
 ],
 "metadata": {
  "kernelspec": {
   "display_name": "Python 3 (ipykernel)",
   "language": "python",
   "name": "python3"
  },
  "language_info": {
   "codemirror_mode": {
    "name": "ipython",
    "version": 3
   },
   "file_extension": ".py",
   "mimetype": "text/x-python",
   "name": "python",
   "nbconvert_exporter": "python",
   "pygments_lexer": "ipython3",
   "version": "3.9.13"
  }
 },
 "nbformat": 4,
 "nbformat_minor": 5
}
