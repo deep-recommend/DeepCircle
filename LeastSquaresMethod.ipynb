{
  "nbformat": 4,
  "nbformat_minor": 0,
  "metadata": {
    "colab": {
      "provenance": [],
      "collapsed_sections": []
    },
    "kernelspec": {
      "name": "python3",
      "display_name": "Python 3"
    },
    "language_info": {
      "name": "python"
    }
  },
  "cells": [
    {
      "cell_type": "code",
      "execution_count": 1,
      "metadata": {
        "id": "AZ_btpZJkmW9"
      },
      "outputs": [],
      "source": [
        "%matplotlib inline\n",
        "import math\n",
        "import copy\n",
        "import numpy as np\n",
        "import pandas as pd\n",
        "from matplotlib import pylab as plt"
      ]
    },
    {
      "cell_type": "code",
      "source": [
        "df = pd.DataFrame(\n",
        "    {\n",
        "        'weight_mass': [5, 10, 15, 20, 25, 30, 35, 40, 45, 50],\n",
        "        'spring_length': [5.3, 5.7, 6.4, 6.9, 7.7, 8.2, 8.4, 9.8, 9.9, 10.7]\n",
        "    }\n",
        ")"
      ],
      "metadata": {
        "id": "W7mtxJjekzW1"
      },
      "execution_count": 2,
      "outputs": []
    },
    {
      "cell_type": "markdown",
      "source": [
        "## 二条和誤差\n",
        "\n",
        "$$\n",
        "MSE = \\sum_{i=1}{n} (y_i - f(x_i))^2\n",
        "$$"
      ],
      "metadata": {
        "id": "_VIr0TSCqnJo"
      }
    },
    {
      "cell_type": "code",
      "source": [
        "def rss(data):\n",
        "  \"\"\"\n",
        "  :param data\n",
        "  \"\"\"\n",
        "  result = 0\n",
        "\n",
        "  for i in data.iterrows():\n",
        "    result += (i[1]['spring_length'] - i[1]['prediction']) ** 2\n",
        "  \n",
        "  return result"
      ],
      "metadata": {
        "id": "6lALuPu1q4fT"
      },
      "execution_count": 3,
      "outputs": []
    },
    {
      "cell_type": "markdown",
      "source": [
        "## 最小二乗法（回帰直線）\n",
        "\n",
        "$$\n",
        "f(x) = ax + b \\\\\n",
        "a = \\frac{Cov_{x,y}}{\\sigma _x^2} \\\\\n",
        "b = \\bar{y} - a \\bar{x}\n",
        "$$"
      ],
      "metadata": {
        "id": "uF51ZS_jxOWt"
      }
    },
    {
      "cell_type": "code",
      "source": [
        "def cov(x, y):\n",
        "  \"\"\"\n",
        "  :param: x: sample x\n",
        "  :param: y: sample y\n",
        "  :return: covariance\n",
        "  \"\"\"\n",
        "  x_mean = np.mean(x)\n",
        "  y_mean = np.mean(y)\n",
        "  n = len(x)\n",
        "  c = 0.0\n",
        "\n",
        "  for i in range(n):\n",
        "    x_i = x[i]\n",
        "    y_i = y[i]\n",
        "    c += (x_i - x_mean) * (y_i - y_mean)\n",
        "  \n",
        "  return c / n\n",
        "\n",
        "def std(x):\n",
        "  \"\"\"\n",
        "  :param x: sample\n",
        "  :return: standard deviation\n",
        "  \"\"\"\n",
        "  mu = np.mean(x)\n",
        "  _std = 0.0\n",
        "  n = len(x)\n",
        "\n",
        "  for i in range(n):\n",
        "    _std += (x[i] - mu) ** 2\n",
        "  \n",
        "  _std = _std / n\n",
        "\n",
        "  return np.sqrt(_std)\n",
        "\n",
        "def slope(x, y):\n",
        "  a = cov(x, y) / (std(x) ** 2)\n",
        "  return a\n",
        "\n",
        "def intercept(x, y):\n",
        "  mean_x = np.array(x).mean()\n",
        "  mean_y = np.array(y).mean()\n",
        "  a = slope(x, y)\n",
        "  b = mean_y - mean_x * a\n",
        "  return b"
      ],
      "metadata": {
        "id": "V6WImCqPzrgu"
      },
      "execution_count": 4,
      "outputs": []
    },
    {
      "cell_type": "code",
      "source": [
        "a = slope(df['weight_mass'], df['spring_length'])\n",
        "b = intercept(df['weight_mass'], df['spring_length'])\n",
        "\n",
        "x_data = np.arange(0, 60)\n",
        "y_data = a * x_data + b\n",
        "\n",
        "plt.scatter(df['weight_mass'], df['spring_length'])\n",
        "plt.plot(x_data, y_data, 'r-')\n",
        "plt.show()"
      ],
      "metadata": {
        "colab": {
          "base_uri": "https://localhost:8080/",
          "height": 267
        },
        "id": "5T3Hpjvl1zYs",
        "outputId": "928b0331-ddbe-4b0d-fc07-dde9dbd1ec77"
      },
      "execution_count": 5,
      "outputs": [
        {
          "output_type": "display_data",
          "data": {
            "text/plain": [
              "<Figure size 432x288 with 1 Axes>"
            ],
            "image/png": "[encoded data removed]"
          },
          "metadata": {
            "needs_background": "light"
          }
        }
      ]
    }
  ]
}