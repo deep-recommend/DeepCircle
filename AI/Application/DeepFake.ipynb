{
 "cells": [
  {
   "cell_type": "code",
   "execution_count": 1,
   "source": [
    "!nvidia-smi\r\n",
    "!nvcc --version"
   ],
   "outputs": [
    {
     "output_type": "stream",
     "name": "stdout",
     "text": [
      "Thu Oct  6 10:52:28 2022       \n",
      "+-----------------------------------------------------------------------------+\n",
      "| NVIDIA-SMI 512.15       Driver Version: 512.15       CUDA Version: 11.6     |\n",
      "|-------------------------------+----------------------+----------------------+\n",
      "| GPU  Name            TCC/WDDM | Bus-Id        Disp.A | Volatile Uncorr. ECC |\n",
      "| Fan  Temp  Perf  Pwr:Usage/Cap|         Memory-Usage | GPU-Util  Compute M. |\n",
      "|                               |                      |               MIG M. |\n",
      "|===============================+======================+======================|\n",
      "|   0  NVIDIA GeForce ... WDDM  | 00000000:04:00.0  On |                  N/A |\n",
      "|  0%   57C    P8    18W / 220W |   1016MiB /  8192MiB |      1%      Default |\n",
      "|                               |                      |                  N/A |\n",
      "+-------------------------------+----------------------+----------------------+\n",
      "                                                                               \n",
      "+-----------------------------------------------------------------------------+\n",
      "| Processes:                                                                  |\n",
      "|  GPU   GI   CI        PID   Type   Process name                  GPU Memory |\n",
      "|        ID   ID                                                   Usage      |\n",
      "|=============================================================================|\n",
      "|    0   N/A  N/A      1456    C+G                                   N/A      |\n",
      "|    0   N/A  N/A      6828    C+G   C:\\Windows\\explorer.exe         N/A      |\n",
      "|    0   N/A  N/A      7248    C+G   ...artMenuExperienceHost.exe    N/A      |\n",
      "|    0   N/A  N/A      8164    C+G   ...2txyewy\\TextInputHost.exe    N/A      |\n",
      "|    0   N/A  N/A      8280    C+G   ...5n1h2txyewy\\SearchApp.exe    N/A      |\n",
      "|    0   N/A  N/A      9792    C+G   ...cw5n1h2txyewy\\LockApp.exe    N/A      |\n",
      "|    0   N/A  N/A     11384    C+G   ...e\\PhoneExperienceHost.exe    N/A      |\n",
      "|    0   N/A  N/A     11696    C+G   ...ck\\app-4.28.182\\slack.exe    N/A      |\n",
      "|    0   N/A  N/A     12328    C+G   ...y\\ShellExperienceHost.exe    N/A      |\n",
      "|    0   N/A  N/A     13324    C+G   ...lPanel\\SystemSettings.exe    N/A      |\n",
      "|    0   N/A  N/A     13748      C   ... Files\\Bandicam\\bdcam.exe    N/A      |\n",
      "|    0   N/A  N/A     13860    C+G   ...p-0.4.7\\Postman Agent.exe    N/A      |\n",
      "|    0   N/A  N/A     13908    C+G   ...ons\\Grammarly.Desktop.exe    N/A      |\n",
      "|    0   N/A  N/A     14304    C+G   ...\\app-1.0.9006\\Discord.exe    N/A      |\n",
      "|    0   N/A  N/A     15500    C+G   ...perience\\NVIDIA Share.exe    N/A      |\n",
      "|    0   N/A  N/A     16520    C+G   ...8wekyb3d8bbwe\\Cortana.exe    N/A      |\n",
      "|    0   N/A  N/A     17532    C+G   ...t\\GoogleIMEJaRenderer.exe    N/A      |\n",
      "|    0   N/A  N/A     18100    C+G   ...LINE\\bin\\current\\LINE.exe    N/A      |\n",
      "|    0   N/A  N/A     22804    C+G   ...bbwe\\Microsoft.Photos.exe    N/A      |\n",
      "|    0   N/A  N/A     22880    C+G   ...icrosoft VS Code\\Code.exe    N/A      |\n",
      "|    0   N/A  N/A     24480    C+G   ...ekyb3d8bbwe\\HxOutlook.exe    N/A      |\n",
      "|    0   N/A  N/A     24840    C+G   ...8bbwe\\WindowsTerminal.exe    N/A      |\n",
      "|    0   N/A  N/A     25340    C+G   ...me\\Application\\chrome.exe    N/A      |\n",
      "|    0   N/A  N/A     29288    C+G   ...ll\\1.0.0.539\\LineCall.exe    N/A      |\n",
      "|    0   N/A  N/A     30656    C+G   ...5n1h2txyewy\\SearchApp.exe    N/A      |\n",
      "|    0   N/A  N/A     30680    C+G   ...ser\\Application\\brave.exe    N/A      |\n",
      "|    0   N/A  N/A     33512    C+G                                   N/A      |\n",
      "|    0   N/A  N/A     33736    C+G   ...4__8wekyb3d8bbwe\\xlim.exe    N/A      |\n",
      "+-----------------------------------------------------------------------------+\n",
      "nvcc: NVIDIA (R) Cuda compiler driver\n",
      "Copyright (c) 2005-2021 NVIDIA Corporation\n",
      "Built on Mon_Sep_13_20:11:50_Pacific_Daylight_Time_2021\n",
      "Cuda compilation tools, release 11.5, V11.5.50\n",
      "Build cuda_11.5.r11.5/compiler.30411180_0\n"
     ]
    }
   ],
   "metadata": {
    "colab": {
     "base_uri": "https://localhost:8080/"
    },
    "id": "4q2th0b6TQQ2",
    "outputId": "f749d372-a841-49cb-edec-7ae41f2b2a31"
   }
  },
  {
   "cell_type": "code",
   "execution_count": null,
   "source": [
    "!git clone https://github.com/sberbank-ai/sber-swap.git\r\n",
    "%cd sber-swap\r\n",
    "!wget -P ./arcface_model https://github.com/sberbank-ai/sber-swap/releases/download/arcface/backbone.pth\r\n",
    "!wget -P ./arcface_model https://github.com/sberbank-ai/sber-swap/releases/download/arcface/iresnet.py\r\n",
    "!wget -P ./insightface_func/models/antelope https://github.com/sberbank-ai/sber-swap/releases/download/antelope/glintr100.onnx\r\n",
    "!wget -P ./insightface_func/models/antelope https://github.com/sberbank-ai/sber-swap/releases/download/antelope/scrfd_10g_bnkps.onnx\r\n",
    "!wget -P ./weights https://github.com/sberbank-ai/sber-swap/releases/download/sber-swap-v2.0/G_unet_2blocks.pth\r\n",
    "!wget -P ./weights https://github.com/sberbank-ai/sber-swap/releases/download/super-res/10_net_G.pth"
   ],
   "outputs": [],
   "metadata": {
    "id": "kG5RDcm_TTYh"
   }
  },
  {
   "cell_type": "code",
   "execution_count": 12,
   "source": [
    "!pip install mxnet-cu101mkl\n",
    "!pip install onnxruntime-gpu==1.8\n",
    "!pip install insightface==0.2.1\n",
    "!pip install kornia==0.5.4"
   ],
   "outputs": [
    {
     "output_type": "stream",
     "name": "stdout",
     "text": [
      "Requirement already satisfied: mxnet-cu101mkl in c:\\users\\sugi\\.conda\\envs\\tf16gpu\\lib\\site-packages (1.5.0)\n",
      "Requirement already satisfied: graphviz<0.9.0,>=0.8.1 in c:\\users\\sugi\\.conda\\envs\\tf16gpu\\lib\\site-packages (from mxnet-cu101mkl) (0.8.4)\n",
      "Requirement already satisfied: requests<2.19.0,>=2.18.4 in c:\\users\\sugi\\.conda\\envs\\tf16gpu\\lib\\site-packages (from mxnet-cu101mkl) (2.18.4)\n",
      "Collecting numpy<1.17.0,>=1.8.2\n",
      "  Using cached numpy-1.16.6-cp39-cp39-win_amd64.whl\n",
      "Requirement already satisfied: idna<2.7,>=2.5 in c:\\users\\sugi\\.conda\\envs\\tf16gpu\\lib\\site-packages (from requests<2.19.0,>=2.18.4->mxnet-cu101mkl) (2.6)\n",
      "Requirement already satisfied: chardet<3.1.0,>=3.0.2 in c:\\users\\sugi\\.conda\\envs\\tf16gpu\\lib\\site-packages (from requests<2.19.0,>=2.18.4->mxnet-cu101mkl) (3.0.4)\n",
      "Requirement already satisfied: certifi>=2017.4.17 in c:\\users\\sugi\\.conda\\envs\\tf16gpu\\lib\\site-packages (from requests<2.19.0,>=2.18.4->mxnet-cu101mkl) (2022.9.24)\n",
      "Requirement already satisfied: urllib3<1.23,>=1.21.1 in c:\\users\\sugi\\.conda\\envs\\tf16gpu\\lib\\site-packages (from requests<2.19.0,>=2.18.4->mxnet-cu101mkl) (1.22)\n",
      "Installing collected packages: numpy\n",
      "  Attempting uninstall: numpy\n",
      "    Found existing installation: numpy 1.23.3\n",
      "    Uninstalling numpy-1.23.3:\n",
      "      Successfully uninstalled numpy-1.23.3\n",
      "Successfully installed numpy-1.16.6\n"
     ]
    },
    {
     "output_type": "stream",
     "name": "stderr",
     "text": [
      "WARNING: Ignoring invalid distribution -rotobuf (c:\\users\\sugi\\.conda\\envs\\tf16gpu\\lib\\site-packages)\n",
      "WARNING: Ignoring invalid distribution -rotobuf (c:\\users\\sugi\\.conda\\envs\\tf16gpu\\lib\\site-packages)\n",
      "WARNING: Ignoring invalid distribution -rotobuf (c:\\users\\sugi\\.conda\\envs\\tf16gpu\\lib\\site-packages)\n",
      "    WARNING: Ignoring invalid distribution -rotobuf (c:\\users\\sugi\\.conda\\envs\\tf16gpu\\lib\\site-packages)\n",
      "WARNING: Ignoring invalid distribution -rotobuf (c:\\users\\sugi\\.conda\\envs\\tf16gpu\\lib\\site-packages)\n",
      "ERROR: pip's dependency resolver does not currently take into account all the packages that are installed. This behaviour is the source of the following dependency conflicts.\n",
      "tifffile 2022.8.12 requires numpy>=1.19.2, but you have numpy 1.16.6 which is incompatible.\n",
      "tensorflow-gpu 2.8.0 requires keras<2.9,>=2.8.0rc0, but you have keras 2.7.0 which is incompatible.\n",
      "tensorflow-gpu 2.8.0 requires numpy>=1.20, but you have numpy 1.16.6 which is incompatible.\n",
      "tensorboard 2.8.0 requires requests<3,>=2.21.0, but you have requests 2.18.4 which is incompatible.\n",
      "scipy 1.8.0 requires numpy<1.25.0,>=1.17.3, but you have numpy 1.16.6 which is incompatible.\n",
      "scikit-image 0.19.3 requires numpy>=1.17.0, but you have numpy 1.16.6 which is incompatible.\n",
      "quimb 1.4.0 requires numpy>=1.17, but you have numpy 1.16.6 which is incompatible.\n",
      "qiskit-terra 0.21.2 requires numpy>=1.17, but you have numpy 1.16.6 which is incompatible.\n",
      "qiskit-ibmq-provider 0.19.2 requires requests>=2.19, but you have requests 2.18.4 which is incompatible.\n",
      "pywavelets 1.4.1 requires numpy>=1.17.3, but you have numpy 1.16.6 which is incompatible.\n",
      "pyquil 3.3.1 requires numpy<2.0,>=1.20, but you have numpy 1.16.6 which is incompatible.\n",
      "pandas 1.5.0 requires numpy>=1.20.3; python_version < \"3.10\", but you have numpy 1.16.6 which is incompatible.\n",
      "opencv-python 4.6.0.66 requires numpy>=1.17.3; python_version >= \"3.8\", but you have numpy 1.16.6 which is incompatible.\n",
      "opencv-python 4.6.0.66 requires numpy>=1.19.3; python_version >= \"3.9\", but you have numpy 1.16.6 which is incompatible.\n",
      "numba 0.56.2 requires numpy<1.24,>=1.18, but you have numpy 1.16.6 which is incompatible.\n",
      "numba 0.56.2 requires setuptools<60, but you have setuptools 65.4.1 which is incompatible.\n",
      "matplotlib 3.6.0 requires numpy>=1.19, but you have numpy 1.16.6 which is incompatible.\n",
      "blueqat 2.0.3 requires numpy>=1.21.0, but you have numpy 1.16.6 which is incompatible.\n",
      "WARNING: Ignoring invalid distribution -rotobuf (c:\\users\\sugi\\.conda\\envs\\tf16gpu\\lib\\site-packages)\n",
      "WARNING: Ignoring invalid distribution -rotobuf (c:\\users\\sugi\\.conda\\envs\\tf16gpu\\lib\\site-packages)\n",
      "WARNING: Ignoring invalid distribution -rotobuf (c:\\users\\sugi\\.conda\\envs\\tf16gpu\\lib\\site-packages)\n"
     ]
    },
    {
     "output_type": "stream",
     "name": "stdout",
     "text": [
      "Requirement already satisfied: onnxruntime-gpu==1.8 in c:\\users\\sugi\\.conda\\envs\\tf16gpu\\lib\\site-packages (1.8.0)\n",
      "Requirement already satisfied: flatbuffers in c:\\users\\sugi\\.conda\\envs\\tf16gpu\\lib\\site-packages (from onnxruntime-gpu==1.8) (2.0)\n",
      "Requirement already satisfied: protobuf in c:\\users\\sugi\\.conda\\envs\\tf16gpu\\lib\\site-packages (from onnxruntime-gpu==1.8) (3.19.6)\n",
      "Requirement already satisfied: numpy>=1.16.6 in c:\\users\\sugi\\.conda\\envs\\tf16gpu\\lib\\site-packages (from onnxruntime-gpu==1.8) (1.16.6)\n"
     ]
    },
    {
     "output_type": "stream",
     "name": "stderr",
     "text": [
      "WARNING: Ignoring invalid distribution -rotobuf (c:\\users\\sugi\\.conda\\envs\\tf16gpu\\lib\\site-packages)\n",
      "WARNING: Ignoring invalid distribution -rotobuf (c:\\users\\sugi\\.conda\\envs\\tf16gpu\\lib\\site-packages)\n",
      "WARNING: Ignoring invalid distribution -rotobuf (c:\\users\\sugi\\.conda\\envs\\tf16gpu\\lib\\site-packages)\n",
      "WARNING: Ignoring invalid distribution -rotobuf (c:\\users\\sugi\\.conda\\envs\\tf16gpu\\lib\\site-packages)\n",
      "WARNING: Ignoring invalid distribution -rotobuf (c:\\users\\sugi\\.conda\\envs\\tf16gpu\\lib\\site-packages)\n",
      "WARNING: Ignoring invalid distribution -rotobuf (c:\\users\\sugi\\.conda\\envs\\tf16gpu\\lib\\site-packages)\n"
     ]
    },
    {
     "output_type": "stream",
     "name": "stdout",
     "text": [
      "Requirement already satisfied: insightface==0.2.1 in c:\\users\\sugi\\.conda\\envs\\tf16gpu\\lib\\site-packages (0.2.1)\n",
      "Requirement already satisfied: requests in c:\\users\\sugi\\.conda\\envs\\tf16gpu\\lib\\site-packages (from insightface==0.2.1) (2.18.4)\n",
      "Requirement already satisfied: tqdm in c:\\users\\sugi\\.conda\\envs\\tf16gpu\\lib\\site-packages (from insightface==0.2.1) (4.64.1)\n",
      "Requirement already satisfied: scipy in c:\\users\\sugi\\.conda\\envs\\tf16gpu\\lib\\site-packages (from insightface==0.2.1) (1.8.0)\n",
      "Requirement already satisfied: onnx in c:\\users\\sugi\\.conda\\envs\\tf16gpu\\lib\\site-packages (from insightface==0.2.1) (1.12.0)\n",
      "Requirement already satisfied: scikit-image in c:\\users\\sugi\\.conda\\envs\\tf16gpu\\lib\\site-packages (from insightface==0.2.1) (0.19.3)\n",
      "Requirement already satisfied: Pillow in c:\\users\\sugi\\.conda\\envs\\tf16gpu\\lib\\site-packages (from insightface==0.2.1) (9.1.0)\n",
      "Requirement already satisfied: scikit-learn in c:\\users\\sugi\\.conda\\envs\\tf16gpu\\lib\\site-packages (from insightface==0.2.1) (1.0.2)\n",
      "Requirement already satisfied: matplotlib in c:\\users\\sugi\\.conda\\envs\\tf16gpu\\lib\\site-packages (from insightface==0.2.1) (3.6.0)\n",
      "Requirement already satisfied: numpy in c:\\users\\sugi\\.conda\\envs\\tf16gpu\\lib\\site-packages (from insightface==0.2.1) (1.16.6)\n",
      "Requirement already satisfied: opencv-python in c:\\users\\sugi\\.conda\\envs\\tf16gpu\\lib\\site-packages (from insightface==0.2.1) (4.6.0.66)\n",
      "Requirement already satisfied: easydict in c:\\users\\sugi\\.conda\\envs\\tf16gpu\\lib\\site-packages (from insightface==0.2.1) (1.9)\n",
      "Requirement already satisfied: packaging>=20.0 in c:\\users\\sugi\\.conda\\envs\\tf16gpu\\lib\\site-packages (from matplotlib->insightface==0.2.1) (21.3)\n",
      "Requirement already satisfied: contourpy>=1.0.1 in c:\\users\\sugi\\.conda\\envs\\tf16gpu\\lib\\site-packages (from matplotlib->insightface==0.2.1) (1.0.5)\n",
      "Requirement already satisfied: pyparsing>=2.2.1 in c:\\users\\sugi\\.conda\\envs\\tf16gpu\\lib\\site-packages (from matplotlib->insightface==0.2.1) (3.0.9)\n",
      "Requirement already satisfied: cycler>=0.10 in c:\\users\\sugi\\.conda\\envs\\tf16gpu\\lib\\site-packages (from matplotlib->insightface==0.2.1) (0.11.0)\n",
      "Requirement already satisfied: kiwisolver>=1.0.1 in c:\\users\\sugi\\.conda\\envs\\tf16gpu\\lib\\site-packages (from matplotlib->insightface==0.2.1) (1.4.4)\n",
      "Requirement already satisfied: fonttools>=4.22.0 in c:\\users\\sugi\\.conda\\envs\\tf16gpu\\lib\\site-packages (from matplotlib->insightface==0.2.1) (4.37.3)\n",
      "Collecting numpy\n",
      "  Using cached numpy-1.23.3-cp39-cp39-win_amd64.whl (14.7 MB)\n",
      "Requirement already satisfied: python-dateutil>=2.7 in c:\\users\\sugi\\.conda\\envs\\tf16gpu\\lib\\site-packages (from matplotlib->insightface==0.2.1) (2.8.2)\n",
      "Requirement already satisfied: typing-extensions>=3.6.2.1 in c:\\users\\sugi\\.conda\\envs\\tf16gpu\\lib\\site-packages (from onnx->insightface==0.2.1) (4.3.0)\n",
      "Requirement already satisfied: protobuf<=3.20.1,>=3.12.2 in c:\\users\\sugi\\.conda\\envs\\tf16gpu\\lib\\site-packages (from onnx->insightface==0.2.1) (3.19.6)\n",
      "Requirement already satisfied: idna<2.7,>=2.5 in c:\\users\\sugi\\.conda\\envs\\tf16gpu\\lib\\site-packages (from requests->insightface==0.2.1) (2.6)\n",
      "Requirement already satisfied: chardet<3.1.0,>=3.0.2 in c:\\users\\sugi\\.conda\\envs\\tf16gpu\\lib\\site-packages (from requests->insightface==0.2.1) (3.0.4)\n",
      "Requirement already satisfied: urllib3<1.23,>=1.21.1 in c:\\users\\sugi\\.conda\\envs\\tf16gpu\\lib\\site-packages (from requests->insightface==0.2.1) (1.22)\n",
      "Requirement already satisfied: certifi>=2017.4.17 in c:\\users\\sugi\\.conda\\envs\\tf16gpu\\lib\\site-packages (from requests->insightface==0.2.1) (2022.9.24)\n",
      "Requirement already satisfied: PyWavelets>=1.1.1 in c:\\users\\sugi\\.conda\\envs\\tf16gpu\\lib\\site-packages (from scikit-image->insightface==0.2.1) (1.4.1)\n",
      "Requirement already satisfied: networkx>=2.2 in c:\\users\\sugi\\.conda\\envs\\tf16gpu\\lib\\site-packages (from scikit-image->insightface==0.2.1) (2.8.6)\n",
      "Requirement already satisfied: imageio>=2.4.1 in c:\\users\\sugi\\.conda\\envs\\tf16gpu\\lib\\site-packages (from scikit-image->insightface==0.2.1) (2.22.0)\n",
      "Requirement already satisfied: tifffile>=2019.7.26 in c:\\users\\sugi\\.conda\\envs\\tf16gpu\\lib\\site-packages (from scikit-image->insightface==0.2.1) (2022.8.12)\n",
      "Requirement already satisfied: threadpoolctl>=2.0.0 in c:\\users\\sugi\\.conda\\envs\\tf16gpu\\lib\\site-packages (from scikit-learn->insightface==0.2.1) (3.1.0)\n",
      "Requirement already satisfied: joblib>=0.11 in c:\\users\\sugi\\.conda\\envs\\tf16gpu\\lib\\site-packages (from scikit-learn->insightface==0.2.1) (1.1.0)\n",
      "Requirement already satisfied: colorama in c:\\users\\sugi\\.conda\\envs\\tf16gpu\\lib\\site-packages (from tqdm->insightface==0.2.1) (0.4.5)\n",
      "Requirement already satisfied: six>=1.5 in c:\\users\\sugi\\.conda\\envs\\tf16gpu\\lib\\site-packages (from python-dateutil>=2.7->matplotlib->insightface==0.2.1) (1.16.0)\n",
      "Installing collected packages: numpy\n",
      "  Attempting uninstall: numpy\n",
      "    Found existing installation: numpy 1.16.6\n",
      "    Uninstalling numpy-1.16.6:\n",
      "      Successfully uninstalled numpy-1.16.6\n",
      "Successfully installed numpy-1.23.3\n"
     ]
    },
    {
     "output_type": "stream",
     "name": "stderr",
     "text": [
      "WARNING: Ignoring invalid distribution -rotobuf (c:\\users\\sugi\\.conda\\envs\\tf16gpu\\lib\\site-packages)\n",
      "WARNING: Ignoring invalid distribution -rotobuf (c:\\users\\sugi\\.conda\\envs\\tf16gpu\\lib\\site-packages)\n",
      "WARNING: Ignoring invalid distribution -rotobuf (c:\\users\\sugi\\.conda\\envs\\tf16gpu\\lib\\site-packages)\n",
      "    WARNING: Ignoring invalid distribution -rotobuf (c:\\users\\sugi\\.conda\\envs\\tf16gpu\\lib\\site-packages)\n",
      "WARNING: Ignoring invalid distribution -rotobuf (c:\\users\\sugi\\.conda\\envs\\tf16gpu\\lib\\site-packages)\n",
      "ERROR: pip's dependency resolver does not currently take into account all the packages that are installed. This behaviour is the source of the following dependency conflicts.\n",
      "tensorflow-gpu 2.8.0 requires keras<2.9,>=2.8.0rc0, but you have keras 2.7.0 which is incompatible.\n",
      "tensorboard 2.8.0 requires requests<3,>=2.21.0, but you have requests 2.18.4 which is incompatible.\n",
      "qiskit-ibmq-provider 0.19.2 requires requests>=2.19, but you have requests 2.18.4 which is incompatible.\n",
      "numba 0.56.2 requires setuptools<60, but you have setuptools 65.4.1 which is incompatible.\n",
      "mxnet-cu101mkl 1.5.0 requires numpy<1.17.0,>=1.8.2, but you have numpy 1.23.3 which is incompatible.\n",
      "WARNING: Ignoring invalid distribution -rotobuf (c:\\users\\sugi\\.conda\\envs\\tf16gpu\\lib\\site-packages)\n",
      "WARNING: Ignoring invalid distribution -rotobuf (c:\\users\\sugi\\.conda\\envs\\tf16gpu\\lib\\site-packages)\n",
      "WARNING: Ignoring invalid distribution -rotobuf (c:\\users\\sugi\\.conda\\envs\\tf16gpu\\lib\\site-packages)\n"
     ]
    },
    {
     "output_type": "stream",
     "name": "stdout",
     "text": [
      "Requirement already satisfied: kornia==0.5.4 in c:\\users\\sugi\\.conda\\envs\\tf16gpu\\lib\\site-packages (0.5.4)\n",
      "Requirement already satisfied: torch>=1.6.0 in c:\\users\\sugi\\.conda\\envs\\tf16gpu\\lib\\site-packages (from kornia==0.5.4) (1.12.1)\n",
      "Requirement already satisfied: numpy in c:\\users\\sugi\\.conda\\envs\\tf16gpu\\lib\\site-packages (from kornia==0.5.4) (1.23.3)\n",
      "Requirement already satisfied: typing-extensions in c:\\users\\sugi\\.conda\\envs\\tf16gpu\\lib\\site-packages (from torch>=1.6.0->kornia==0.5.4) (4.3.0)\n"
     ]
    },
    {
     "output_type": "stream",
     "name": "stderr",
     "text": [
      "WARNING: Ignoring invalid distribution -rotobuf (c:\\users\\sugi\\.conda\\envs\\tf16gpu\\lib\\site-packages)\n",
      "WARNING: Ignoring invalid distribution -rotobuf (c:\\users\\sugi\\.conda\\envs\\tf16gpu\\lib\\site-packages)\n",
      "WARNING: Ignoring invalid distribution -rotobuf (c:\\users\\sugi\\.conda\\envs\\tf16gpu\\lib\\site-packages)\n",
      "WARNING: Ignoring invalid distribution -rotobuf (c:\\users\\sugi\\.conda\\envs\\tf16gpu\\lib\\site-packages)\n",
      "WARNING: Ignoring invalid distribution -rotobuf (c:\\users\\sugi\\.conda\\envs\\tf16gpu\\lib\\site-packages)\n",
      "WARNING: Ignoring invalid distribution -rotobuf (c:\\users\\sugi\\.conda\\envs\\tf16gpu\\lib\\site-packages)\n"
     ]
    }
   ],
   "metadata": {
    "id": "3Lrn4KcATVO4"
   }
  },
  {
   "cell_type": "code",
   "execution_count": 16,
   "source": [
    "import cv2\n",
    "import torch\n",
    "import time\n",
    "import os\n",
    "import matplotlib.pyplot as plt\n",
    "import sys\n",
    "\n",
    "sys.path.append('./utils')\n",
    "\n",
    "from IPython.display import HTML\n",
    "from base64 import b64encode\n",
    "\n",
    "from utils.inference.image_processing import crop_face, get_final_image, show_images\n",
    "from utils.inference.video_processing import read_video, get_target, get_final_video, add_audio_from_another_video, face_enhancement\n",
    "from utils.inference.core import model_inference\n",
    "\n",
    "from network.AEI_Net import AEI_Net\n",
    "from coordinate_reg.image_infer import Handler\n",
    "from insightface_func.i import Face_detect_crop\n",
    "from arcface_model.iresnet import iresnet100\n",
    "from models.pix2pix_model import Pix2PixModel\n",
    "from models.config_sr import TestOptions\n",
    "from .autonotebook import tqdm as notebook_tqdm"
   ],
   "outputs": [
    {
     "output_type": "error",
     "ename": "ModuleNotFoundError",
     "evalue": "No module named 'utils'",
     "traceback": [
      "\u001b[1;31m---------------------------------------------------------------------------\u001b[0m",
      "\u001b[1;31mModuleNotFoundError\u001b[0m                       Traceback (most recent call last)",
      "Cell \u001b[1;32mIn [16], line 13\u001b[0m\n\u001b[0;32m     10\u001b[0m \u001b[38;5;28;01mfrom\u001b[39;00m \u001b[38;5;21;01mIPython\u001b[39;00m\u001b[38;5;21;01m.\u001b[39;00m\u001b[38;5;21;01mdisplay\u001b[39;00m \u001b[38;5;28;01mimport\u001b[39;00m HTML\n\u001b[0;32m     11\u001b[0m \u001b[38;5;28;01mfrom\u001b[39;00m \u001b[38;5;21;01mbase64\u001b[39;00m \u001b[38;5;28;01mimport\u001b[39;00m b64encode\n\u001b[1;32m---> 13\u001b[0m \u001b[38;5;28;01mfrom\u001b[39;00m \u001b[38;5;21;01mutils\u001b[39;00m\u001b[38;5;21;01m.\u001b[39;00m\u001b[38;5;21;01minference\u001b[39;00m\u001b[38;5;21;01m.\u001b[39;00m\u001b[38;5;21;01mimage_processing\u001b[39;00m \u001b[38;5;28;01mimport\u001b[39;00m crop_face, get_final_image, show_images\n\u001b[0;32m     14\u001b[0m \u001b[38;5;28;01mfrom\u001b[39;00m \u001b[38;5;21;01mutils\u001b[39;00m\u001b[38;5;21;01m.\u001b[39;00m\u001b[38;5;21;01minference\u001b[39;00m\u001b[38;5;21;01m.\u001b[39;00m\u001b[38;5;21;01mvideo_processing\u001b[39;00m \u001b[38;5;28;01mimport\u001b[39;00m read_video, get_target, get_final_video, add_audio_from_another_video, face_enhancement\n\u001b[0;32m     15\u001b[0m \u001b[38;5;28;01mfrom\u001b[39;00m \u001b[38;5;21;01mutils\u001b[39;00m\u001b[38;5;21;01m.\u001b[39;00m\u001b[38;5;21;01minference\u001b[39;00m\u001b[38;5;21;01m.\u001b[39;00m\u001b[38;5;21;01mcore\u001b[39;00m \u001b[38;5;28;01mimport\u001b[39;00m model_inference\n",
      "\u001b[1;31mModuleNotFoundError\u001b[0m: No module named 'utils'"
     ]
    }
   ],
   "metadata": {
    "id": "mRWO2jR7TWno"
   }
  },
  {
   "cell_type": "code",
   "execution_count": null,
   "source": [
    "app = Face_detect_crop(name='antelope', root='./insightface_func/models')\n",
    "app.prepare(ctx_id= 0, det_thresh=0.6, det_size=(640,640))\n",
    "\n",
    "G = AEI_Net(backbone='unet', num_blocks=2, c_id=512)\n",
    "G.eval()\n",
    "G.load_state_dict(torch.load('weights/G_unet_2blocks.pth', map_location=torch.device('cpu')))\n",
    "G = G.cuda()\n",
    "G = G.half()\n",
    "\n",
    "netArc = iresnet100(fp16=False)\n",
    "netArc.load_state_dict(torch.load('arcface_model/backbone.pth'))\n",
    "netArc=netArc.cuda()\n",
    "netArc.eval()\n",
    "\n",
    "handler = Handler('./coordinate_reg/model/2d106det', 0, ctx_id=0, det_size=640)\n",
    "\n",
    "use_sr = True\n",
    "if use_sr:\n",
    "    os.environ['CUDA_VISIBLE_DEVICES'] = '0'\n",
    "    torch.backends.cudnn.benchmark = True\n",
    "    opt = TestOptions()\n",
    "    model = Pix2PixModel(opt)\n",
    "    model.netG.train()"
   ],
   "outputs": [],
   "metadata": {
    "id": "sOCdLdxPTZxf"
   }
  },
  {
   "cell_type": "code",
   "execution_count": null,
   "source": [
    "target_type = 'video'\n",
    "\n",
    "source_path = 'examples/images/jin.png'\n",
    "path_to_video = 'examples/videos/dj.mp4'\n",
    "\n",
    "source_full = cv2.imread(source_path)\n",
    "OUT_VIDEO_NAME = \"examples/results/result.mp4\"\n",
    "crop_size = 224\n",
    "\n",
    "try:\n",
    "    source = crop_face(source_full, app, crop_size)[0]\n",
    "    source = [source[:, :, ::-1]]\n",
    "    print(\"Everything is ok!\")\n",
    "except TypeError:\n",
    "    print(\"Bad source images\")\n",
    "\n",
    "if target_type == 'image':\n",
    "    target_full = cv2.imread(target_path)\n",
    "    full_frames = [target_full]\n",
    "else:\n",
    "    full_frames, fps = read_video(path_to_video)\n",
    "target = get_target(full_frames, app, crop_size)"
   ],
   "outputs": [],
   "metadata": {
    "id": "Ux2lMfJ9Tc_e"
   }
  },
  {
   "cell_type": "code",
   "execution_count": null,
   "source": [
    "batch_size = 40\n",
    "\n",
    "START_TIME = time.time()\n",
    "\n",
    "final_frames_list, crop_frames_list, full_frames, tfm_array_list = model_inference(\n",
    "    full_frames,\n",
    "    source,\n",
    "    target,\n",
    "    netArc,\n",
    "    G,\n",
    "    app,\n",
    "    set_target = False,\n",
    "    crop_size=crop_size,\n",
    "    BS=batch_size\n",
    ")\n",
    "\n",
    "if use_sr:\n",
    "  final_frames_list = face_enhancement(final_frames_list, model)\n",
    "\n",
    "if target_type == 'video':\n",
    "  get_final_video(\n",
    "      final_frames_list,\n",
    "      crop_frames_list,\n",
    "      full_frames,\n",
    "      tfm_array_list,\n",
    "      OUT_VIDEO_NAME,\n",
    "      fps,\n",
    "      handler\n",
    "  )\n",
    "\n",
    "  add_audio_from_another_video(path_to_video, OUT_VIDEO_NAME, \"audio\")\n",
    "\n",
    "  print(f'Full pipeline took {time.time() - START_TIME}')\n",
    "  print(f\"Video saved with path {OUT_VIDEO_NAME}\")\n",
    "else:\n",
    "  result = get_final_image(\n",
    "      final_frames_list,\n",
    "      crop_frames_list,\n",
    "      full_frames[0],\n",
    "      tfm_array_list,\n",
    "      handler\n",
    "  )\n",
    "  cv2.imwrite('examples/results/result.png', result)"
   ],
   "outputs": [],
   "metadata": {
    "id": "f9Bh2degTntM"
   }
  },
  {
   "cell_type": "code",
   "execution_count": null,
   "source": [
    "if target_type == 'image':\n",
    "  show_images(\n",
    "      [\n",
    "          source[0][:,:,::-1],\n",
    "          target_full,\n",
    "          result\n",
    "      ],\n",
    "      [\n",
    "          'Source Image',\n",
    "          'Target Image',\n",
    "          'Swapped Image'\n",
    "      ],\n",
    "      figsize=(20, 15)\n",
    "  )\n",
    "else:\n",
    "  video_file = open(OUT_VIDEO_NAME, \"r+b\").read()\n",
    "  video_url = f\"data:video/mp4;base64,{b64encode(video_file).decode()}\"\n",
    "  \n",
    "  HTML(f\"\"\"<video width={800} controls><source src=\"{video_url}\"></video>\"\"\")"
   ],
   "outputs": [],
   "metadata": {
    "id": "cBMbSHBLTpzD"
   }
  }
 ],
 "metadata": {
  "colab": {
   "collapsed_sections": [],
   "provenance": []
  },
  "interpreter": {
   "hash": "b3ba2566441a7c06988d0923437866b63cedc61552a5af99d1f4fb67d367b25f"
  },
  "kernelspec": {
   "name": "python3",
   "display_name": "Python 3.9.7 64-bit ('base': conda)"
  },
  "language_info": {
   "codemirror_mode": {
    "name": "ipython",
    "version": 3
   },
   "file_extension": ".py",
   "mimetype": "text/x-python",
   "name": "python",
   "nbconvert_exporter": "python",
   "pygments_lexer": "ipython3",
   "version": "3.9.7"
  }
 },
 "nbformat": 4,
 "nbformat_minor": 2
}